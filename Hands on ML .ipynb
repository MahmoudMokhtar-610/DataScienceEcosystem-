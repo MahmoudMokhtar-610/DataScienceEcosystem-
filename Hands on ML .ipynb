{
  "nbformat": 4,
  "nbformat_minor": 0,
  "metadata": {
    "colab": {
      "provenance": [],
      "authorship_tag": "ABX9TyOPvQ/okoLQMZ/7VnUzT0Kh",
      "include_colab_link": true
    },
    "kernelspec": {
      "name": "python3",
      "display_name": "Python 3"
    },
    "language_info": {
      "name": "python"
    }
  },
  "cells": [
    {
      "cell_type": "markdown",
      "metadata": {
        "id": "view-in-github",
        "colab_type": "text"
      },
      "source": [
        "<a href=\"https://colab.research.google.com/github/MahmoudMokhtar-610/DataScienceEcosystem-/blob/main/Hands%20on%20ML%20.ipynb\" target=\"_parent\"><img src=\"https://colab.research.google.com/assets/colab-badge.svg\" alt=\"Open In Colab\"/></a>"
      ]
    },
    {
      "cell_type": "code",
      "execution_count": 1,
      "metadata": {
        "id": "gWNjLtW3A8yk"
      },
      "outputs": [],
      "source": [
        "import numpy as np\n",
        "def shuffle_and_split_data (data, test_ratio):\n",
        "  shuffled_indices = np.random.permutation(len(data))\n",
        "  test_set_size = int(len(data)) * test_ratio\n",
        "  test_indices = shuffled_indices [:test_set_size]\n",
        "  train_indices = shuffled_indices[test_set_size:]\n",
        "  return data.iloc[train_indices], data.iloc[test_indices]"
      ]
    },
    {
      "cell_type": "code",
      "source": [],
      "metadata": {
        "id": "UqJoa1k1Cz99"
      },
      "execution_count": null,
      "outputs": []
    }
  ]
}